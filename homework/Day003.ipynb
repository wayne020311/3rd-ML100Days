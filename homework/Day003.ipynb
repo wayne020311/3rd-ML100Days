{
 "cells": [
  {
   "cell_type": "code",
   "execution_count": null,
   "metadata": {},
   "outputs": [],
   "source": [
    "[作業目標]\n",
    "持續接觸有關機器學習的相關專案與最新技術\n",
    "\n",
    "[作業重點]\n",
    "透過觀察頂尖公司的機器學習文章，來了解各公司是怎麼應用機器學習在實際的專案上\n",
    "\n",
    "[作業]\n",
    "資料來源：\n",
    "https://ai.googleblog.com/2019/06/predicting-bus-delays-with-machine.html\n",
    "\n",
    "目標：預測公車遲到時間。\n",
    "\n",
    "方法：神經序列模型\n",
    "\n",
    "資料來源：相關單位提供的時刻表、使用谷歌地圖的行車路線及行車時間等資料"
   ]
  }
 ],
 "metadata": {
  "kernelspec": {
   "display_name": "Python 3",
   "language": "python",
   "name": "python3"
  },
  "language_info": {
   "codemirror_mode": {
    "name": "ipython",
    "version": 3
   },
   "file_extension": ".py",
   "mimetype": "text/x-python",
   "name": "python",
   "nbconvert_exporter": "python",
   "pygments_lexer": "ipython3",
   "version": "3.7.3"
  }
 },
 "nbformat": 4,
 "nbformat_minor": 2
}
